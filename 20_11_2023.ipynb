{
  "nbformat": 4,
  "nbformat_minor": 0,
  "metadata": {
    "colab": {
      "provenance": [],
      "authorship_tag": "ABX9TyOPtrjA4U5+aQ3acseAzx/+",
      "include_colab_link": true
    },
    "kernelspec": {
      "name": "python3",
      "display_name": "Python 3"
    },
    "language_info": {
      "name": "python"
    }
  },
  "cells": [
    {
      "cell_type": "markdown",
      "metadata": {
        "id": "view-in-github",
        "colab_type": "text"
      },
      "source": [
        "<a href=\"https://colab.research.google.com/github/vishwas0297/pyhton/blob/main/20_11_2023.ipynb\" target=\"_parent\"><img src=\"https://colab.research.google.com/assets/colab-badge.svg\" alt=\"Open In Colab\"/></a>"
      ]
    },
    {
      "cell_type": "code",
      "execution_count": 1,
      "metadata": {
        "id": "xSklWTbQ99C1"
      },
      "outputs": [],
      "source": [
        "def main():\n",
        "  obj1 = open(\"Demo1.txt\", \"w\") #Opens a file in Write mode\n",
        "  obj1.write(\"Hello, How are you? \\n\")\n",
        "  obj1.write(\"Welcome to The File Handling. \\n\")\n",
        "  obj1.write(\"Enjoy the session. \\n\")\n",
        "\n",
        "\n",
        "main()"
      ]
    },
    {
      "cell_type": "code",
      "source": [
        "fp1 = open(\"demo1.txt\",\"w\")\n"
      ],
      "metadata": {
        "id": "oCD1IJvqUth4"
      },
      "execution_count": 5,
      "outputs": []
    },
    {
      "cell_type": "code",
      "execution_count": 7,
      "metadata": {
        "id": "346raxdM_xFU"
      },
      "outputs": [],
      "source": [
        "from random import randint\n",
        "fp1 = open(\"WriteNumRandom.txt\",\"w\")\n",
        "for x in range(51):\n",
        "  x = randint(500,1000)\n",
        "  x = str(x)\n",
        "  fp1.write(x + \" \")\n",
        "\n",
        "fp1.close()"
      ]
    },
    {
      "cell_type": "code",
      "source": [],
      "metadata": {
        "id": "x5aNOJOEVEVx"
      },
      "execution_count": null,
      "outputs": []
    },
    {
      "cell_type": "code",
      "execution_count": 10,
      "metadata": {
        "colab": {
          "base_uri": "https://localhost:8080/"
        },
        "id": "VGsGxa4yCVRR",
        "outputId": "51e202f9-b479-42b3-d09c-652b3e066371"
      },
      "outputs": [
        {
          "output_type": "stream",
          "name": "stdout",
          "text": [
            "Python is powerful... and fast;\n",
            "plays well with others;\n",
            "runs everywhere;\n",
            "is friendly & easy to learn;\n",
            "is Open.\n",
            "These are some of the reasons people who use Python would rather not use anything else.\n"
          ]
        }
      ],
      "source": [
        "fp = open(\"demo2.txt\",\"r\")\n",
        "text = fp.read()\n",
        "print(text)"
      ]
    },
    {
      "cell_type": "code",
      "source": [],
      "metadata": {
        "id": "7qT8jjiOVn0K"
      },
      "execution_count": null,
      "outputs": []
    },
    {
      "cell_type": "code",
      "execution_count": 13,
      "metadata": {
        "colab": {
          "base_uri": "https://localhost:8080/"
        },
        "id": "BoNLU2aFCqxz",
        "outputId": "985d0350-76a1-41c0-8be2-3eff8d2f90c9"
      },
      "outputs": [
        {
          "output_type": "stream",
          "name": "stdout",
          "text": [
            "Python is powerful... and fast;\n",
            "\n",
            "\n",
            "\n",
            "plays well with others;\n",
            "\n",
            "\n",
            "\n",
            "runs everywhere;\n",
            "\n",
            "\n",
            "\n",
            "is friendly & easy to learn;\n",
            "\n",
            "\n",
            "\n",
            "is Open.\n"
          ]
        }
      ],
      "source": [
        "fp = open(\"demo3.txt\",\"r\")\n",
        "for line in fp:\n",
        "  print(line)"
      ]
    },
    {
      "cell_type": "code",
      "execution_count": 17,
      "metadata": {
        "colab": {
          "base_uri": "https://localhost:8080/"
        },
        "id": "GbGCHYgBDgJ9",
        "outputId": "b9ae7ca4-e020-43f0-9d6e-a11854789924"
      },
      "outputs": [
        {
          "output_type": "stream",
          "name": "stdout",
          "text": [
            "1\n",
            "2\n",
            "3\n",
            "4\n",
            "5\n",
            "6\n",
            "7\n",
            "8\n",
            "9\n",
            "10\n",
            "11\n",
            "12\n",
            "13\n",
            "14\n",
            "15\n",
            "16\n",
            "17\n",
            "18\n",
            "19\n",
            "20\n",
            "<class 'str'>\n"
          ]
        }
      ],
      "source": [
        "fp1 = open(\"writenumbers.txt\",\"r\")\n",
        "num = fp1.read()\n",
        "print(num)\n",
        "print(type(num))\n"
      ]
    },
    {
      "cell_type": "code",
      "execution_count": 18,
      "metadata": {
        "colab": {
          "base_uri": "https://localhost:8080/"
        },
        "id": "WOugCzqBFete",
        "outputId": "f09ae9d6-0ed1-4be0-f043-d0ed0d1750d3"
      },
      "outputs": [
        {
          "output_type": "stream",
          "name": "stdout",
          "text": [
            "Monday\n",
            "Tuesday\n",
            "Wednesday\n",
            "Thursday\n",
            "Friday\n",
            "\n"
          ]
        }
      ],
      "source": [
        "fp1 = open(\"Weekdays.txt\",\"w+\")     #Open file in w+ mode\n",
        "fp1.write(\"Monday\\n\")               #Write to file\n",
        "fp1.write(\"Tuesday\\n\")\n",
        "fp1.write(\"Wednesday\\n\")\n",
        "fp1.write(\"Thursday\\n\")\n",
        "fp1.write(\"Friday\\n\")\n",
        "fp1.seek(0)                         #Set file pointer to start of the file\n",
        "t = fp1.read()                      #Read file from current file pointer till end\n",
        "print(t)"
      ]
    },
    {
      "cell_type": "code",
      "execution_count": 19,
      "metadata": {
        "colab": {
          "base_uri": "https://localhost:8080/"
        },
        "id": "HPnzw5h7PfpQ",
        "outputId": "8b85a699-88bb-43c0-cdf2-749232a94e78"
      },
      "outputs": [
        {
          "output_type": "stream",
          "name": "stdout",
          "text": [
            "Monday\n",
            "Tuesday\n",
            "Wednesday\n",
            "Thursday\n",
            "Friday\n",
            "Saturday\n",
            "Sunday\n",
            "\n"
          ]
        }
      ],
      "source": [
        "fp1.seek(0,2)                     #Move file from current file pointer till end\n",
        "fp1.write('Saturday\\n')           #Write at the end of file\n",
        "fp1.write(\"Sunday\\n\")\n",
        "fp1.seek(0)\n",
        "t = fp1.read()\n",
        "print(t)"
      ]
    }
  ]
}